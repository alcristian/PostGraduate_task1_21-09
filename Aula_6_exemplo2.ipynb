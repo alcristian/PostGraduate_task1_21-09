{
 "cells": [
  {
   "cell_type": "markdown",
   "metadata": {},
   "source": [
    "<h1>Aula 6: Exemplo 2 de script para árvore de decisão </h1>"
   ]
  },
  {
   "cell_type": "markdown",
   "metadata": {},
   "source": [
    "#### Bibliotecas usadas:"
   ]
  },
  {
   "cell_type": "code",
   "execution_count": null,
   "metadata": {},
   "outputs": [],
   "source": [
    "import csv\n",
    "import numpy as np\n",
    "from sklearn.cross_validation import train_test_split\n",
    "from sklearn import tree"
   ]
  },
  {
   "cell_type": "code",
   "execution_count": null,
   "metadata": {},
   "outputs": [],
   "source": [
    "#Vamos buscar os dados\n",
    "with open(\"Iris.csv\",'r') as csvfile:\n",
    "    iris_reader = csv.reader(csvfile, delimiter=',', quotechar='\"')\n",
    "    row = next(iris_reader)\n",
    "    nome_colunas = np.array(row) \n",
    "    iris_X = []  \n",
    "    iris_Y = []\n",
    "    for row in iris_reader:\n",
    "        iris_X.append(row)\n",
    "        iris_Y.append(row[4])\n",
    "    iris_X = np.array(iris_X)\n",
    "    iris_Y = np.array(iris_Y)"
   ]
  },
  {
   "cell_type": "code",
   "execution_count": null,
   "metadata": {},
   "outputs": [],
   "source": [
    "nome_colunas.shape"
   ]
  },
  {
   "cell_type": "code",
   "execution_count": null,
   "metadata": {},
   "outputs": [],
   "source": [
    "iris_X.shape"
   ]
  },
  {
   "cell_type": "code",
   "execution_count": null,
   "metadata": {},
   "outputs": [],
   "source": [
    "#Vamos selecionar os atributos do modelo.\n",
    "iris_X = iris_X[:,[0,1,2,3]]\n",
    "nome_colunas = nome_colunas[[0,1,2,3]]\n",
    "print(nome_colunas)"
   ]
  },
  {
   "cell_type": "code",
   "execution_count": null,
   "metadata": {},
   "outputs": [],
   "source": [
    "iris_Y"
   ]
  },
  {
   "cell_type": "code",
   "execution_count": null,
   "metadata": {},
   "outputs": [],
   "source": [
    "iris_X"
   ]
  },
  {
   "cell_type": "code",
   "execution_count": null,
   "metadata": {},
   "outputs": [],
   "source": [
    "#Vamos preparar os conjuntos de treino e de teste\n",
    "x_train,x_test,y_train,y_test = train_test_split(iris_X,iris_Y,\n",
    "                                                  test_size=0.3,\n",
    "                                                  random_state=22)"
   ]
  },
  {
   "cell_type": "code",
   "execution_count": null,
   "metadata": {},
   "outputs": [],
   "source": [
    "# Vamos definir o algoritmo, usando como critério entropia, indicando o número de atributos =4 e o número mínimo de folhas =5\n",
    "clf = tree.DecisionTreeClassifier(criterion='entropy',max_depth=4,\n",
    "                                   min_samples_leaf=5)"
   ]
  },
  {
   "cell_type": "code",
   "execution_count": null,
   "metadata": {},
   "outputs": [],
   "source": [
    "# Aplicamos o modelo aos dados de treino\n",
    "clf = clf.fit(x_train,y_train)"
   ]
  },
  {
   "cell_type": "code",
   "execution_count": null,
   "metadata": {},
   "outputs": [],
   "source": [
    "# vamos medir a proporção de acertos com uma função\n",
    "def acuracidade(tree,x_test,y_test):\n",
    "    predict = clf.predict(x_test)\n",
    "    erro = 0.0\n",
    "    for x in range(len(predict)):\n",
    "        if predict[x] != y_test[x]:\n",
    "            erro += 1.\n",
    "    acuracy = (1-(erro/len(predict)))\n",
    "    return acuracy\n",
    "acuracidade(clf,x_test,y_test)\n",
    "\n"
   ]
  },
  {
   "cell_type": "code",
   "execution_count": null,
   "metadata": {},
   "outputs": [],
   "source": [
    "novos_casos = [['5.1', '3.5', '1.4', '0.2'],\n",
    "       ['4.9', '3', '1.4', '0.2'],\n",
    "       ['4.7', '3.2', '1.3', '0.2']]"
   ]
  },
  {
   "cell_type": "code",
   "execution_count": null,
   "metadata": {},
   "outputs": [],
   "source": [
    "predict_novos_casos = clf.predict(novos_casos)"
   ]
  },
  {
   "cell_type": "code",
   "execution_count": null,
   "metadata": {},
   "outputs": [],
   "source": [
    "print(predict_novos_casos)"
   ]
  },
  {
   "cell_type": "code",
   "execution_count": null,
   "metadata": {},
   "outputs": [],
   "source": []
  }
 ],
 "metadata": {
  "kernelspec": {
   "display_name": "Python 3",
   "language": "python",
   "name": "python3"
  },
  "language_info": {
   "codemirror_mode": {
    "name": "ipython",
    "version": 3
   },
   "file_extension": ".py",
   "mimetype": "text/x-python",
   "name": "python",
   "nbconvert_exporter": "python",
   "pygments_lexer": "ipython3",
   "version": "3.6.5"
  }
 },
 "nbformat": 4,
 "nbformat_minor": 2
}
